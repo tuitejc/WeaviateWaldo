{
 "cells": [
  {
   "cell_type": "code",
   "execution_count": null,
   "metadata": {
    "vscode": {
     "languageId": "shellscript"
    }
   },
   "outputs": [],
   "source": [
    "#make sure you have the latest version of the weaviate-client installed\n",
    "!pip install weaviate-client -U\n",
    "!pip intall PILLOW"
   ]
  },
  {
   "cell_type": "code",
   "execution_count": null,
   "metadata": {},
   "outputs": [],
   "source": [
    "#python3 -m venv venv\n",
    "from PIL import Image, ImageDraw  \n",
    "import base64, os, weaviate\n",
    "from io import BytesIO\n",
    "from pathlib import Path"
   ]
  },
  {
   "cell_type": "code",
   "execution_count": null,
   "metadata": {},
   "outputs": [],
   "source": [
    "client = weaviate.connect_to_local()\n",
    "print(\"Connected to Weaviate\")"
   ]
  },
  {
   "cell_type": "code",
   "execution_count": null,
   "metadata": {},
   "outputs": [],
   "source": [
    "def base64_to_image(image_data_base64):\n",
    "    image_data = base64.b64decode(image_data_base64)\n",
    "    image = Image.open(BytesIO(image_data))\n",
    "    return image\n",
    "\n",
    "\n",
    "def file_to_base64(path):\n",
    "    with open(path, 'rb') as file:\n",
    "        return base64.b64encode(file.read()).decode('utf-8')\n",
    "\n",
    "def image_to_base64(image):\n",
    "    buffered = BytesIO()\n",
    "    image.save(buffered, format=\"PNG\")\n",
    "    return base64.b64encode(buffered.getvalue()).decode('utf-8')\n",
    "\n",
    "\n",
    "\n",
    "def create_schema(collectionName):\n",
    "    import weaviate.classes as wvc\n",
    "    from weaviate.classes.config import Property, DataType\n",
    "\n",
    "    if(client.collections.exists(collectionName)):\n",
    "        client.collections.delete(collectionName)\n",
    "\n",
    "    client.collections.create(\n",
    "        name=collectionName,\n",
    "        properties=[\n",
    "            Property(name=\"image\", data_type=DataType.BLOB),\n",
    "            Property(name=\"x_coordinate\", data_type=DataType.INT),\n",
    "            Property(name=\"y_coordinate\", data_type=DataType.INT)\n",
    "        ],\n",
    "        vectorizer_config=wvc.config.Configure.Vectorizer.multi2vec_clip(\n",
    "            image_fields=[\"image\"] \n",
    "        )\n",
    "    )\n",
    "    \n",
    "    print(\"Collection created\")\n",
    "\n",
    "\n",
    "def split_image_locally(input_image_path, split_width, split_height, output_folder):\n",
    "    image = Image.open(input_image_path)\n",
    "    image_width, image_height = image.size\n",
    "\n",
    "    if not os.path.exists(output_folder):\n",
    "        os.makedirs(output_folder)\n",
    "\n",
    "    for y in range(0, image_height, split_height):\n",
    "        for x in range(0, image_width, split_width):\n",
    "            bbox = (x, y, x + split_width, y + split_height)\n",
    "            split_image = image.crop(bbox)\n",
    "            filename = f\"{y // split_height + 1}_{x // split_width + 1}_waldo.png\"\n",
    "            split_image.save(os.path.join(output_folder, filename))\n",
    "\n",
    "def upload_to_weaviate(input_image_folder,collectionName):\n",
    "    collection = client.collections.get(collectionName)\n",
    "    filelist = Path(input_image_folder).glob('*.png')\n",
    "    filelist = sorted([x.name for x in filelist])\n",
    "    #loop through all images in the input_image_folder and upload them to weaviate\n",
    "    for filename in filelist:\n",
    "        if filename.endswith(\".png\"):\n",
    "            image = Image.open(os.path.join(input_image_folder, filename))\n",
    "            image_data = image_to_base64(image)\n",
    "            x, y = map(int, filename.split('_')[:2])\n",
    "            obj = {\"image\": image_data, \"x_coordinate\": x, \"y_coordinate\": y}\n",
    "            collection.data.insert(obj)\n",
    "            print(f'Added coordinates x:{x} y:{y} to Weaviate')\n",
    "            #note - not using batching here so we know when it completes each record\n",
    "\n",
    "def findWaldo(waldo_image,split_width,split_height,collectionName):\n",
    "    print(\"preparing waldo image to search for\")\n",
    "    collection = client.collections.get(collectionName)\n",
    "    resized_waldo = 'images/waldo_resized.png'\n",
    "    waldo_image = Image.open(waldo_image)\n",
    "    #shrink and scale the image down the defined block size\n",
    "    waldo_image = waldo_image.resize((split_width, split_height))\n",
    "    print(\"image resized\")\n",
    "    #temporarily save the image to a file\n",
    "    waldo_image.save(resized_waldo)\n",
    "    searchableWaldo = image_to_base64(waldo_image)\n",
    "    #print(searchableWaldo)\n",
    "    print(\"image converted to base64\")\n",
    "\n",
    "    #perform a near image search to find the closest match to the waldo image\n",
    "    response = collection.query.near_image(\n",
    "        near_image=searchableWaldo,\n",
    "        return_properties=['x_coordinate','y_coordinate'],\n",
    "        limit=1\n",
    "    )\n",
    "    \n",
    "    coordinates = []\n",
    "    for obj in response.objects:\n",
    "        print(obj.properties)\n",
    "        coordinates.append((obj.properties['x_coordinate'], obj.properties['y_coordinate']))\n",
    "\n",
    "    \n",
    "    print(coordinates)\n",
    "    return coordinates\n",
    "\n",
    "def reassemble_and_highlight(original_image_path, split_width, split_height, highlight_rows_columns, output_folder):\n",
    "    original_image = Image.open(original_image_path)\n",
    "    total_width, total_height = original_image.size\n",
    "    \n",
    "    print(total_width, total_height)\n",
    "\n",
    "    new_image = Image.new('RGB', (total_width, total_height))\n",
    "\n",
    "    # Loop over the folder with the split images and reassemble the original image\n",
    "    for filename in os.listdir(output_folder):\n",
    "        if filename.endswith(\"_waldo.png\"):  # Ensuring only the intended images are processed\n",
    "            # Extract row and column numbers from the filename\n",
    "            part_row, part_col = map(int, filename.split('_')[:2])\n",
    "            # Calculate the position where this part should be pasted in the new image\n",
    "            position = ((part_col - 1) * split_width, (part_row - 1) * split_height)\n",
    "            # Open the image tile and paste it into the new image\n",
    "            image_part = Image.open(os.path.join(output_folder, filename))\n",
    "            new_image.paste(image_part, position)\n",
    "\n",
    "            # Highlight the tile if it is part of the highlight list\n",
    "            if (part_row, part_col) in highlight_rows_columns:\n",
    "                draw = ImageDraw.Draw(new_image)\n",
    "                outline_width = 8  # highlight thickness\n",
    "                draw.rectangle(\n",
    "                    [position[0], position[1], position[0] + split_width, position[1] + split_height],\n",
    "                    outline=\"red\", width=outline_width\n",
    "                )\n",
    "\n",
    "    return new_image"
   ]
  },
  {
   "cell_type": "code",
   "execution_count": null,
   "metadata": {},
   "outputs": [],
   "source": [
    "input_image_path = 'images/waldo_ski_image.jpeg'  # Change this to the path of your input image\n",
    "collectionName='WaldoCollection' #name of the collection to create in weaviate\n",
    "split_width = 250  # Width of each tile image\n",
    "split_height = 250  # Height of each tile image"
   ]
  },
  {
   "cell_type": "code",
   "execution_count": null,
   "metadata": {},
   "outputs": [],
   "source": [
    "create_schema(collectionName)  # Only run this once to create the schema, it will delete if it already exists"
   ]
  },
  {
   "cell_type": "code",
   "execution_count": null,
   "metadata": {},
   "outputs": [],
   "source": [
    "split_image_locally(input_image_path, split_width, split_height, 'images/output')\n",
    "print(\"Image is now split into local directory\")"
   ]
  },
  {
   "cell_type": "code",
   "execution_count": null,
   "metadata": {},
   "outputs": [],
   "source": [
    "upload_to_weaviate('images/output',collectionName)\n",
    "print(\"Images are now uploaded to Weaviate\")"
   ]
  },
  {
   "cell_type": "code",
   "execution_count": null,
   "metadata": {},
   "outputs": [],
   "source": [
    "input_image_path = 'images/waldo_ski_image.jpeg'\n",
    "query_image = 'images/Waldo_ski.png'\n",
    "\n",
    "highlighted_parts = findWaldo(query_image,split_width,split_height,collectionName)\n",
    "print(highlighted_parts)\n",
    "\n",
    "\n",
    "if highlighted_parts == []:\n",
    "    print(\"Waldo not found\")\n",
    "else:\n",
    "   print(\"Waldo found!\")\n",
    "   reassembled_image = reassemble_and_highlight(input_image_path, split_width, split_height, highlighted_parts, 'images/output')\n",
    "   reassembled_image.show()  # This will display the reassembled image with highlighted parts"
   ]
  }
 ],
 "metadata": {
  "kernelspec": {
   "display_name": "env",
   "language": "python",
   "name": "python3"
  },
  "language_info": {
   "codemirror_mode": {
    "name": "ipython",
    "version": 3
   },
   "file_extension": ".py",
   "mimetype": "text/x-python",
   "name": "python",
   "nbconvert_exporter": "python",
   "pygments_lexer": "ipython3",
   "version": "3.11.6"
  },
  "orig_nbformat": 4
 },
 "nbformat": 4,
 "nbformat_minor": 2
}
